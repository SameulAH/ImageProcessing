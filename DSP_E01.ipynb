{
 "cells": [
  {
   "cell_type": "code",
   "execution_count": 1,
   "metadata": {},
   "outputs": [],
   "source": [
    "import os\n",
    "import numpy as np\n",
    "from time import time\n",
    "from scipy.io import wavfile as wav\n",
    "\n",
    "import matplotlib.pyplot as plt\n",
    "import IPython.display as ipd\n",
    "\n",
    "# Classification tools\n",
    "from sklearn.svm import SVC\n",
    "from sklearn.model_selection import train_test_split, GridSearchCV\n",
    "from sklearn.metrics import classification_report, confusion_matrix\n",
    "\n",
    "\n",
    "import scipy.io.wavfile as wav\n",
    "import IPython.display as ipd\n"
   ]
  },
  {
   "cell_type": "markdown",
   "metadata": {},
   "source": [
    "## Data Import"
   ]
  },
  {
   "cell_type": "code",
   "execution_count": 2,
   "metadata": {},
   "outputs": [
    {
     "data": {
      "text/plain": [
       "(5148,)"
      ]
     },
     "execution_count": 2,
     "metadata": {},
     "output_type": "execute_result"
    }
   ],
   "source": [
    "sound_rate, sound_data = wav.read('C:/Users/sam/Desktop/DSP/data/recordings/recordings/0_jackson_0.wav')\n",
    "# Play the signal\n",
    "\n",
    "ipd.Audio(sound_data, rate=sound_rate)\n",
    "\n",
    "sound_data.shape\n",
    "\n",
    "\n"
   ]
  },
  {
   "cell_type": "code",
   "execution_count": 3,
   "metadata": {},
   "outputs": [
    {
     "data": {
      "text/plain": [
       "(5148,)"
      ]
     },
     "execution_count": 3,
     "metadata": {},
     "output_type": "execute_result"
    }
   ],
   "source": [
    "sound_data.shape"
   ]
  },
  {
   "cell_type": "code",
   "execution_count": 4,
   "metadata": {},
   "outputs": [],
   "source": [
    "# Placecholder for feature extractor\n",
    "def identity(input):\n",
    "    return input\n",
    "\n"
   ]
  },
  {
   "cell_type": "code",
   "execution_count": 5,
   "metadata": {},
   "outputs": [],
   "source": [
    "# Define a function to load data\n",
    "def load_data(directory, feature_extractor, normalize=False):\n",
    "    features = []\n",
    "    labels = []\n",
    "    \n",
    "    for f in os.listdir(directory):\n",
    "        if f.endswith('.wav'):\n",
    "            # Load file and compute the requested features\n",
    "            _, signal = wav.read(os.path.join(directory, f))\n",
    "            cur_features = feature_extractor(signal)\n",
    "            features.append(cur_features)\n",
    "\n",
    "            # Example: Assuming the label is part of the filename before an underscore\n",
    "            label = f.split('_')[0]\n",
    "            labels.append(label)\n",
    "    \n",
    "    # Convert to numpy arrays for easier manipulation\n",
    "    X = np.array(features)\n",
    "    y = np.array(labels)\n",
    "    \n",
    "    if normalize:\n",
    "        X = (X - np.mean(X, axis=0)) / np.std(X, axis=0)\n",
    "    \n",
    "    # Split the data into training and testing sets\n",
    "    from sklearn.model_selection import train_test_split\n",
    "    X_train, X_test, y_train, y_test = train_test_split(X, y, test_size=0.2, random_state=42)\n",
    "    \n",
    "    return X_train, X_test, y_train, y_test"
   ]
  },
  {
   "cell_type": "markdown",
   "metadata": {},
   "source": [
    "# Feature Extraction"
   ]
  },
  {
   "cell_type": "code",
   "execution_count": 7,
   "metadata": {},
   "outputs": [],
   "source": [
    "# Create sample data and corresponding feature\n",
    "dummy_data = np.random.rand(100)\n",
    "feats_scalar = np.std(dummy_data)\n",
    "feats_vector = np.std(dummy_data, keepdims=True)"
   ]
  },
  {
   "cell_type": "code",
   "execution_count": 8,
   "metadata": {},
   "outputs": [
    {
     "name": "stdout",
     "output_type": "stream",
     "text": [
      "0.29694332097248627\n",
      "()\n"
     ]
    }
   ],
   "source": [
    "# Scalar feature\n",
    "print(feats_scalar)\n",
    "print(feats_scalar.shape)"
   ]
  },
  {
   "cell_type": "code",
   "execution_count": 10,
   "metadata": {},
   "outputs": [
    {
     "name": "stdout",
     "output_type": "stream",
     "text": [
      "[0.29694332]\n",
      "(1,)\n"
     ]
    }
   ],
   "source": [
    "print(feats_vector)\n",
    "print(feats_vector.shape)"
   ]
  },
  {
   "cell_type": "markdown",
   "metadata": {},
   "source": [
    "## Energy"
   ]
  },
  {
   "cell_type": "code",
   "execution_count": 10,
   "metadata": {},
   "outputs": [],
   "source": [
    "\n",
    "def energy(input):\n",
    "    return np.sum((input*1.0)**2, keepdims=True)"
   ]
  },
  {
   "cell_type": "code",
   "execution_count": 24,
   "metadata": {},
   "outputs": [],
   "source": [
    "X_train, X_test, y_train, y_test = load_data('C:/Users/sam/Desktop/DSP/data/recordings/recordings', feature_extractor=energy)\n"
   ]
  },
  {
   "cell_type": "code",
   "execution_count": 25,
   "metadata": {},
   "outputs": [
    {
     "name": "stdout",
     "output_type": "stream",
     "text": [
      "Numer of training examples: 1350\n",
      "Dimensionality of the training features: (1,)\n"
     ]
    }
   ],
   "source": [
    "# # Data loading\n",
    "# X_train, X_test, y_train, y_test = load_data(feature_extractor=energy)\n",
    "print('Numer of training examples: {}'.format(len(X_train)))\n",
    "print('Dimensionality of the training features: {}'.format(X_train[0].shape))"
   ]
  },
  {
   "cell_type": "code",
   "execution_count": 26,
   "metadata": {},
   "outputs": [],
   "source": [
    "# Support Vector Machine (SVM) initialization\n",
    "clf = SVC(kernel='rbf', class_weight='balanced')"
   ]
  },
  {
   "cell_type": "code",
   "execution_count": 27,
   "metadata": {},
   "outputs": [],
   "source": [
    "# SVM training\n",
    "clf = clf.fit(X_train, y_train)"
   ]
  },
  {
   "cell_type": "code",
   "execution_count": 28,
   "metadata": {},
   "outputs": [],
   "source": [
    "# SVM inference\n",
    "y_pred = clf.predict(X_test)"
   ]
  },
  {
   "cell_type": "code",
   "execution_count": 29,
   "metadata": {},
   "outputs": [
    {
     "name": "stdout",
     "output_type": "stream",
     "text": [
      "Classification report:\n",
      "              precision    recall  f1-score   support\n",
      "\n",
      "           0       0.50      0.06      0.11        17\n",
      "           1       0.00      0.00      0.00        10\n",
      "           2       0.00      0.00      0.00        15\n",
      "           3       0.17      0.58      0.26        19\n",
      "           4       0.12      0.27      0.17        11\n",
      "           5       0.10      0.14      0.12        14\n",
      "           6       0.40      0.29      0.33        14\n",
      "           7       0.14      0.16      0.15        19\n",
      "           8       0.00      0.00      0.00        17\n",
      "           9       0.00      0.00      0.00        14\n",
      "\n",
      "    accuracy                           0.16       150\n",
      "   macro avg       0.14      0.15      0.11       150\n",
      "weighted avg       0.15      0.16      0.12       150\n",
      "\n"
     ]
    },
    {
     "name": "stderr",
     "output_type": "stream",
     "text": [
      "c:\\Users\\sam\\AppData\\Local\\Programs\\Python\\Python310\\lib\\site-packages\\sklearn\\metrics\\_classification.py:1497: UndefinedMetricWarning: Precision is ill-defined and being set to 0.0 in labels with no predicted samples. Use `zero_division` parameter to control this behavior.\n",
      "  _warn_prf(average, modifier, f\"{metric.capitalize()} is\", len(result))\n",
      "c:\\Users\\sam\\AppData\\Local\\Programs\\Python\\Python310\\lib\\site-packages\\sklearn\\metrics\\_classification.py:1497: UndefinedMetricWarning: Precision is ill-defined and being set to 0.0 in labels with no predicted samples. Use `zero_division` parameter to control this behavior.\n",
      "  _warn_prf(average, modifier, f\"{metric.capitalize()} is\", len(result))\n",
      "c:\\Users\\sam\\AppData\\Local\\Programs\\Python\\Python310\\lib\\site-packages\\sklearn\\metrics\\_classification.py:1497: UndefinedMetricWarning: Precision is ill-defined and being set to 0.0 in labels with no predicted samples. Use `zero_division` parameter to control this behavior.\n",
      "  _warn_prf(average, modifier, f\"{metric.capitalize()} is\", len(result))\n"
     ]
    }
   ],
   "source": [
    "# Classification report\n",
    "print('Classification report:')\n",
    "print(classification_report(y_test, y_pred))"
   ]
  },
  {
   "cell_type": "code",
   "execution_count": 30,
   "metadata": {},
   "outputs": [
    {
     "name": "stdout",
     "output_type": "stream",
     "text": [
      "Confusion matrix:\n",
      "[[ 1  0  1  9  0  2  2  2  0  0]\n",
      " [ 0  0  0  6  4  0  0  0  0  0]\n",
      " [ 0  0  0  6  1  5  0  3  0  0]\n",
      " [ 0  0  1 11  4  2  0  1  0  0]\n",
      " [ 1  0  2  1  3  0  2  2  0  0]\n",
      " [ 0  0  1  5  3  2  1  2  0  0]\n",
      " [ 0  0  0  8  0  0  4  2  0  0]\n",
      " [ 0  0  0  9  2  5  0  3  0  0]\n",
      " [ 0  0  0  7  3  4  1  2  0  0]\n",
      " [ 0  0  1  3  5  0  0  5  0  0]]\n"
     ]
    }
   ],
   "source": [
    "# Confusion matrix\n",
    "print('Confusion matrix:')\n",
    "cm = confusion_matrix(y_test, y_pred)\n",
    "print(cm)"
   ]
  },
  {
   "cell_type": "code",
   "execution_count": 31,
   "metadata": {},
   "outputs": [
    {
     "data": {
      "image/png": "[encoded data removed]",
      "text/plain": [
       "<Figure size 640x480 with 1 Axes>"
      ]
     },
     "metadata": {},
     "output_type": "display_data"
    }
   ],
   "source": [
    "plt.imshow(cm, cmap=plt.cm.Blues);\n",
    "plt.xlabel('Prediction');\n",
    "plt.ylabel('Ground truth');"
   ]
  },
  {
   "cell_type": "code",
   "execution_count": null,
   "metadata": {},
   "outputs": [],
   "source": []
  },
  {
   "cell_type": "markdown",
   "metadata": {},
   "source": [
    "## Classification of recodrs using Duration of the records"
   ]
  },
  {
   "cell_type": "code",
   "execution_count": 11,
   "metadata": {},
   "outputs": [],
   "source": [
    "def duration(input):\n",
    "    return np.array(input.shape)"
   ]
  },
  {
   "cell_type": "code",
   "execution_count": 33,
   "metadata": {},
   "outputs": [],
   "source": [
    "# Data loading\n",
    "X_train, X_test, y_train, y_test = load_data('C:/Users/sam/Desktop/DSP/data/recordings/recordings',feature_extractor=duration)"
   ]
  },
  {
   "cell_type": "code",
   "execution_count": 34,
   "metadata": {},
   "outputs": [],
   "source": [
    "# SVM initialization and training\n",
    "clf = SVC(kernel='rbf', class_weight='balanced')\n",
    "clf = clf.fit(X_train, y_train)"
   ]
  },
  {
   "cell_type": "code",
   "execution_count": 35,
   "metadata": {},
   "outputs": [
    {
     "name": "stdout",
     "output_type": "stream",
     "text": [
      "              precision    recall  f1-score   support\n",
      "\n",
      "           0       0.32      0.41      0.36        17\n",
      "           1       0.22      0.40      0.29        10\n",
      "           2       0.00      0.00      0.00        15\n",
      "           3       0.38      0.26      0.31        19\n",
      "           4       0.38      0.27      0.32        11\n",
      "           5       0.00      0.00      0.00        14\n",
      "           6       0.67      0.14      0.24        14\n",
      "           7       0.33      0.05      0.09        19\n",
      "           8       0.26      0.71      0.38        17\n",
      "           9       0.06      0.14      0.08        14\n",
      "\n",
      "    accuracy                           0.24       150\n",
      "   macro avg       0.26      0.24      0.21       150\n",
      "weighted avg       0.27      0.24      0.21       150\n",
      "\n"
     ]
    },
    {
     "name": "stderr",
     "output_type": "stream",
     "text": [
      "c:\\Users\\sam\\AppData\\Local\\Programs\\Python\\Python310\\lib\\site-packages\\sklearn\\metrics\\_classification.py:1497: UndefinedMetricWarning: Precision is ill-defined and being set to 0.0 in labels with no predicted samples. Use `zero_division` parameter to control this behavior.\n",
      "  _warn_prf(average, modifier, f\"{metric.capitalize()} is\", len(result))\n",
      "c:\\Users\\sam\\AppData\\Local\\Programs\\Python\\Python310\\lib\\site-packages\\sklearn\\metrics\\_classification.py:1497: UndefinedMetricWarning: Precision is ill-defined and being set to 0.0 in labels with no predicted samples. Use `zero_division` parameter to control this behavior.\n",
      "  _warn_prf(average, modifier, f\"{metric.capitalize()} is\", len(result))\n",
      "c:\\Users\\sam\\AppData\\Local\\Programs\\Python\\Python310\\lib\\site-packages\\sklearn\\metrics\\_classification.py:1497: UndefinedMetricWarning: Precision is ill-defined and being set to 0.0 in labels with no predicted samples. Use `zero_division` parameter to control this behavior.\n",
      "  _warn_prf(average, modifier, f\"{metric.capitalize()} is\", len(result))\n"
     ]
    }
   ],
   "source": [
    "# SVM test\n",
    "y_pred = clf.predict(X_test)\n",
    "print(classification_report(y_test, y_pred))"
   ]
  },
  {
   "cell_type": "code",
   "execution_count": 36,
   "metadata": {},
   "outputs": [
    {
     "name": "stdout",
     "output_type": "stream",
     "text": [
      "Confusion matrix:\n"
     ]
    },
    {
     "data": {
      "image/png": "[encoded data removed]",
      "text/plain": [
       "<Figure size 640x480 with 1 Axes>"
      ]
     },
     "metadata": {},
     "output_type": "display_data"
    }
   ],
   "source": [
    "# Confusion matrix\n",
    "print('Confusion matrix:')\n",
    "cm = confusion_matrix(y_test, y_pred)\n",
    "plt.imshow(cm, cmap=plt.cm.Blues);\n",
    "plt.xlabel('Prediction');\n",
    "plt.ylabel('Ground truth');"
   ]
  },
  {
   "cell_type": "code",
   "execution_count": null,
   "metadata": {},
   "outputs": [],
   "source": []
  },
  {
   "cell_type": "markdown",
   "metadata": {},
   "source": [
    "## Features combining features with normalization"
   ]
  },
  {
   "cell_type": "code",
   "execution_count": 37,
   "metadata": {},
   "outputs": [],
   "source": [
    "def combo(input):\n",
    "    return np.concatenate((energy(input),duration(input)))"
   ]
  },
  {
   "cell_type": "code",
   "execution_count": 38,
   "metadata": {},
   "outputs": [
    {
     "name": "stdout",
     "output_type": "stream",
     "text": [
      "Numer of training examples: 1350\n",
      "Dimensionality of the training features: (2,)\n"
     ]
    }
   ],
   "source": [
    "# Data loading\n",
    "X_train, X_test, y_train, y_test = load_data('C:/Users/sam/Desktop/DSP/data/recordings/recordings',feature_extractor=combo, normalize=True)\n",
    "\n",
    "print('Numer of training examples: {}'.format(len(X_train)))\n",
    "print('Dimensionality of the training features: {}'.format(X_train[0].shape))"
   ]
  },
  {
   "cell_type": "code",
   "execution_count": 39,
   "metadata": {},
   "outputs": [],
   "source": [
    "# SVM initialization and training\n",
    "clf = SVC(kernel='rbf', class_weight='balanced')\n",
    "clf = clf.fit(X_train, y_train)\n"
   ]
  },
  {
   "cell_type": "code",
   "execution_count": 40,
   "metadata": {},
   "outputs": [
    {
     "name": "stdout",
     "output_type": "stream",
     "text": [
      "              precision    recall  f1-score   support\n",
      "\n",
      "           0       0.67      0.24      0.35        17\n",
      "           1       0.11      0.10      0.11        10\n",
      "           2       0.00      0.00      0.00        15\n",
      "           3       0.39      0.63      0.48        19\n",
      "           4       0.46      0.55      0.50        11\n",
      "           5       0.17      0.14      0.15        14\n",
      "           6       0.50      0.14      0.22        14\n",
      "           7       0.38      0.16      0.22        19\n",
      "           8       0.09      0.12      0.10        17\n",
      "           9       0.26      0.71      0.38        14\n",
      "\n",
      "    accuracy                           0.28       150\n",
      "   macro avg       0.30      0.28      0.25       150\n",
      "weighted avg       0.31      0.28      0.25       150\n",
      "\n"
     ]
    }
   ],
   "source": [
    "# SVM test\n",
    "y_pred = clf.predict(X_test)\n",
    "print(classification_report(y_test, y_pred))"
   ]
  },
  {
   "cell_type": "code",
   "execution_count": 41,
   "metadata": {},
   "outputs": [
    {
     "name": "stdout",
     "output_type": "stream",
     "text": [
      "Confusion matrix:\n"
     ]
    },
    {
     "data": {
      "image/png": "[encoded data removed]",
      "text/plain": [
       "<Figure size 640x480 with 1 Axes>"
      ]
     },
     "metadata": {},
     "output_type": "display_data"
    }
   ],
   "source": [
    "# Confusion matrix\n",
    "print('Confusion matrix:')\n",
    "cm = confusion_matrix(y_test, y_pred)\n",
    "plt.imshow(cm, cmap=plt.cm.Blues);\n",
    "plt.xlabel('Prediction');\n",
    "plt.ylabel('Ground truth');"
   ]
  },
  {
   "cell_type": "code",
   "execution_count": null,
   "metadata": {},
   "outputs": [],
   "source": []
  },
  {
   "cell_type": "markdown",
   "metadata": {},
   "source": [
    "## Hyperparameter optimization"
   ]
  },
  {
   "cell_type": "code",
   "execution_count": 42,
   "metadata": {},
   "outputs": [],
   "source": [
    "# Data loading\n",
    "X_train, X_test, y_train, y_test = load_data('C:/Users/sam/Desktop/DSP/data/recordings/recordings',feature_extractor=combo, normalize=True)"
   ]
  },
  {
   "cell_type": "code",
   "execution_count": 43,
   "metadata": {},
   "outputs": [
    {
     "name": "stdout",
     "output_type": "stream",
     "text": [
      "Training completed in 9.157s\n"
     ]
    }
   ],
   "source": [
    "# Parameters to be tested in cross-validation\n",
    "param_grid = {'C': [100, 500, 1000],\n",
    "          'gamma': [0.005, 0.01, 0.1, 0.5, 1.0], }\n",
    "\n",
    "# Support Vector Machine initialization\n",
    "clf = GridSearchCV(SVC(kernel='rbf', class_weight='balanced'), param_grid, cv=2)\n",
    "\n",
    "# Training\n",
    "t0 = time()\n",
    "clf = clf.fit(X_train, y_train)\n",
    "print('Training completed in %0.3fs' % (time() - t0))"
   ]
  },
  {
   "cell_type": "code",
   "execution_count": 44,
   "metadata": {},
   "outputs": [
    {
     "name": "stdout",
     "output_type": "stream",
     "text": [
      "Best parameters combination:\n",
      " C: 1000\n",
      " gamma: 0.1\n"
     ]
    }
   ],
   "source": [
    "# Result of the cross validation for parameters selection\n",
    "print('Best parameters combination:')\n",
    "print(' C: '+str(clf.best_estimator_.C))\n",
    "print(' gamma: '+str(clf.best_estimator_.gamma))"
   ]
  },
  {
   "cell_type": "code",
   "execution_count": 45,
   "metadata": {},
   "outputs": [
    {
     "name": "stdout",
     "output_type": "stream",
     "text": [
      "              precision    recall  f1-score   support\n",
      "\n",
      "           0       0.50      0.47      0.48        17\n",
      "           1       0.15      0.20      0.17        10\n",
      "           2       0.00      0.00      0.00        15\n",
      "           3       0.38      0.53      0.44        19\n",
      "           4       0.45      0.45      0.45        11\n",
      "           5       0.19      0.21      0.20        14\n",
      "           6       0.47      0.50      0.48        14\n",
      "           7       0.36      0.21      0.27        19\n",
      "           8       0.14      0.12      0.13        17\n",
      "           9       0.36      0.57      0.44        14\n",
      "\n",
      "    accuracy                           0.33       150\n",
      "   macro avg       0.30      0.33      0.31       150\n",
      "weighted avg       0.31      0.33      0.31       150\n",
      "\n"
     ]
    }
   ],
   "source": [
    "# SVM test\n",
    "y_pred = clf.predict(X_test)\n",
    "print(classification_report(y_test, y_pred))"
   ]
  },
  {
   "cell_type": "code",
   "execution_count": 46,
   "metadata": {},
   "outputs": [
    {
     "name": "stdout",
     "output_type": "stream",
     "text": [
      "Confusion matrix:\n"
     ]
    },
    {
     "data": {
      "image/png": "[encoded data removed]",
      "text/plain": [
       "<Figure size 640x480 with 1 Axes>"
      ]
     },
     "metadata": {},
     "output_type": "display_data"
    }
   ],
   "source": [
    "# Confusion matrix\n",
    "print('Confusion matrix:')\n",
    "cm = confusion_matrix(y_test, y_pred)\n",
    "plt.imshow(cm, cmap=plt.cm.Blues);\n",
    "plt.xlabel('Prediction');\n",
    "plt.ylabel('Ground truth');"
   ]
  },
  {
   "cell_type": "code",
   "execution_count": null,
   "metadata": {},
   "outputs": [],
   "source": []
  },
  {
   "cell_type": "code",
   "execution_count": null,
   "metadata": {},
   "outputs": [],
   "source": []
  },
  {
   "cell_type": "markdown",
   "metadata": {},
   "source": [
    "# Assignment: Zero-Crossing Rate"
   ]
  },
  {
   "cell_type": "markdown",
   "metadata": {},
   "source": [
    "**Zero-Crossing Rate**:\n",
    "count how many times the signal goes from positive to negative, and from negative to positive.\n",
    "\n",
    "Possible approach:\n",
    "\n",
    "1. Shift the signal by one unit\n",
    "2. Compare point-by-point the sign (``np.sign()``) of the original signal and of the shifted signal\n",
    "3. Accumulate the instances of sign change"
   ]
  },
  {
   "cell_type": "markdown",
   "metadata": {},
   "source": [
    "Compare the signs of the values belonging to the signal (current position) with those of the signal shifted by one position (next position), creating an array containing the values:\n",
    "\n",
    "0 --> if the signs of the values are the same\n",
    "1 --> if the signs of the values are different, there is a sign change\n",
    "Thus, we will have an array containing the value 1 for each sign change, then summing all the values of 1 to obtain the requested feature.\n",
    "\n",
    "In particular, in the function below:\n",
    "\n",
    "np.roll allows shifting the array by one position.\n",
    "np.sign allows extracting the sign of a value.\n",
    "np.where allows specifying an action to be performed depending on a condition."
   ]
  },
  {
   "cell_type": "code",
   "execution_count": 6,
   "metadata": {},
   "outputs": [],
   "source": [
    "sample_rate = 44100  # Example sample rate\n"
   ]
  },
  {
   "cell_type": "code",
   "execution_count": 23,
   "metadata": {},
   "outputs": [],
   "source": [
    "\n",
    "\n",
    "def zcrc(input):\n",
    "  input=input[input != 0]\n",
    "  sign = np.array(np.where(np.sign(input)*np.sign(np.roll(input, -1)) < 0, 1, 0))\n",
    "  output = np.sum(sign, keepdims=True)\n",
    "  return output"
   ]
  },
  {
   "cell_type": "code",
   "execution_count": 24,
   "metadata": {},
   "outputs": [],
   "source": [
    "# Combine feature extraction functions\n",
    "def combo2(input):\n",
    "    return np.concatenate((energy(input), duration(input), zcrc(input)))\n",
    "\n"
   ]
  },
  {
   "cell_type": "code",
   "execution_count": 25,
   "metadata": {},
   "outputs": [],
   "source": [
    "# Data loading\n",
    "X_train, X_test, y_train, y_test = load_data('C:/Users/sam/Desktop/DSP/data/recordings/recordings',feature_extractor=combo2, normalize=True)\n",
    "\n"
   ]
  },
  {
   "cell_type": "code",
   "execution_count": 31,
   "metadata": {},
   "outputs": [
    {
     "name": "stdout",
     "output_type": "stream",
     "text": [
      "Training completed in 6.267s\n"
     ]
    }
   ],
   "source": [
    "\n",
    "# Parameters to be tested in cross-validation\n",
    "param_grid = {'C': [100, 500, 1000],\n",
    "          'gamma': [0.005, 0.01, 0.1, 0.5, 1.0], }\n",
    "\n",
    "# Support Vector Machine initialization\n",
    "clf = GridSearchCV(SVC(kernel='rbf', class_weight='balanced'), param_grid, cv=2)\n",
    "\n",
    "# Training\n",
    "t0 = time()\n",
    "clf = clf.fit(X_train, y_train)\n",
    "print('Training completed in %0.3fs' % (time() - t0))\n"
   ]
  },
  {
   "cell_type": "code",
   "execution_count": 27,
   "metadata": {},
   "outputs": [
    {
     "name": "stdout",
     "output_type": "stream",
     "text": [
      "Best parameters combination:\n",
      " C: 100\n",
      " gamma: 1.0\n"
     ]
    }
   ],
   "source": [
    "# Result of the cross validation for parameters selection\n",
    "print('Best parameters combination:')\n",
    "print(' C: '+str(clf.best_estimator_.C))\n",
    "print(' gamma: '+str(clf.best_estimator_.gamma))"
   ]
  },
  {
   "cell_type": "code",
   "execution_count": 32,
   "metadata": {},
   "outputs": [
    {
     "name": "stdout",
     "output_type": "stream",
     "text": [
      "              precision    recall  f1-score   support\n",
      "\n",
      "           0       0.50      0.54      0.52        28\n",
      "           1       0.36      0.46      0.41        28\n",
      "           2       0.50      0.41      0.45        34\n",
      "           3       0.47      0.45      0.46        31\n",
      "           4       0.35      0.28      0.31        25\n",
      "           5       0.38      0.58      0.46        24\n",
      "           6       0.95      0.71      0.82        28\n",
      "           7       0.42      0.34      0.38        38\n",
      "           8       0.59      0.58      0.59        38\n",
      "           9       0.47      0.54      0.50        26\n",
      "\n",
      "    accuracy                           0.49       300\n",
      "   macro avg       0.50      0.49      0.49       300\n",
      "weighted avg       0.50      0.49      0.49       300\n",
      "\n"
     ]
    }
   ],
   "source": [
    "\n",
    "# SVM test\n",
    "y_pred = clf.predict(X_test)\n",
    "print(classification_report(y_test, y_pred))"
   ]
  },
  {
   "cell_type": "code",
   "execution_count": 33,
   "metadata": {},
   "outputs": [
    {
     "name": "stdout",
     "output_type": "stream",
     "text": [
      "Confusion matrix:\n"
     ]
    },
    {
     "data": {
      "image/png": "[encoded data removed]",
      "text/plain": [
       "<Figure size 640x480 with 1 Axes>"
      ]
     },
     "metadata": {},
     "output_type": "display_data"
    }
   ],
   "source": [
    "# Confusion matrix\n",
    "print('Confusion matrix:')\n",
    "cm = confusion_matrix(y_test, y_pred)\n",
    "plt.imshow(cm, cmap=plt.cm.Blues);\n",
    "plt.xlabel('Prediction');\n",
    "plt.ylabel('Ground truth');"
   ]
  },
  {
   "cell_type": "markdown",
   "metadata": {},
   "source": [
    "The model shows moderate performance overall, with significant variability between different classes.\n",
    "\n",
    "** Some classes like 6, 8, and 0 have relatively higher diagonal values, indicating better performance for these classes, , while others like 2, 4 need significant improvement.\n",
    "\n",
    "** The overall accuracy of 49% indicates room for improvement.\n",
    "\n",
    "** Focusing on enhancing recall for underperforming classes and reducing false positives could help improve overall performance."
   ]
  },
  {
   "cell_type": "code",
   "execution_count": null,
   "metadata": {},
   "outputs": [],
   "source": []
  }
 ],
 "metadata": {
  "kernelspec": {
   "display_name": "Python 3",
   "language": "python",
   "name": "python3"
  },
  "language_info": {
   "codemirror_mode": {
    "name": "ipython",
    "version": 3
   },
   "file_extension": ".py",
   "mimetype": "text/x-python",
   "name": "python",
   "nbconvert_exporter": "python",
   "pygments_lexer": "ipython3",
   "version": "3.10.9"
  }
 },
 "nbformat": 4,
 "nbformat_minor": 2
}
